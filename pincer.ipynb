{
 "cells": [
  {
   "cell_type": "code",
   "execution_count": 1,
   "id": "0f5c3775",
   "metadata": {},
   "outputs": [],
   "source": [
    "import random\n",
    "\n",
    "def pincer_search(search_space, fitness_function, iterations=100, swarm_size=10):\n",
    "    swarm = []\n",
    "    for i in range(swarm_size):\n",
    "        position = [random.uniform(search_space[0], search_space[1]) for i in range(len(search_space))]\n",
    "        swarm.append(position)\n",
    "    fitness_values = [fitness_function(individual) for individual in swarm]\n",
    "    best_individual = swarm[fitness_values.index(min(fitness_values))]\n",
    "    worst_individual = swarm[fitness_values.index(max(fitness_values))]\n",
    "    for i in range(iterations):\n",
    "        centroid = [sum(dim) / swarm_size for dim in zip(*swarm)]\n",
    "        reflection = [2 * centroid[i] - worst_individual[i] for i in range(len(search_space))]\n",
    "        expansion = [3 * centroid[i] - 2 * worst_individual[i] for i in range(len(search_space))]\n",
    "        reflection_fitness = fitness_function(reflection)\n",
    "        expansion_fitness = fitness_function(expansion)\n",
    "\n",
    "        if reflection_fitness < fitness_values[fitness_values.index(max(fitness_values))]:\n",
    "            swarm[fitness_values.index(max(fitness_values))] = reflection\n",
    "            fitness_values[fitness_values.index(max(fitness_values))] = reflection_fitness\n",
    "        elif expansion_fitness < fitness_values[fitness_values.index(max(fitness_values))]:\n",
    "            swarm[fitness_values.index(max(fitness_values))] = expansion\n",
    "            fitness_values[fitness_values.index(max(fitness_values))] = expansion_fitness\n",
    "        best_individual = swarm[fitness_values.index(min(fitness_values))]\n",
    "        worst_individual = swarm[fitness_values.index(max(fitness_values))]\n",
    "    return best_individual, fitness_function(best_individual)\n"
   ]
  },
  {
   "cell_type": "code",
   "execution_count": 2,
   "id": "5ffa8f2f",
   "metadata": {},
   "outputs": [
    {
     "name": "stdout",
     "output_type": "stream",
     "text": [
      "Best individual: [2.094579610920216, -1.6009548214328948]\n",
      "Best fitness: 6.950320086751916\n"
     ]
    }
   ],
   "source": [
    "def sphere_function(x):\n",
    " return sum([i**2 for i in x])\n",
    "best_individual, best_fitness = pincer_search((-5.12, 5.12), sphere_function)\n",
    "print(\"Best individual:\", best_individual)\n",
    "print(\"Best fitness:\", best_fitness)"
   ]
  },
  {
   "cell_type": "code",
   "execution_count": null,
   "id": "b0cd1806",
   "metadata": {},
   "outputs": [],
   "source": []
  }
 ],
 "metadata": {
  "kernelspec": {
   "display_name": "Python 3 (ipykernel)",
   "language": "python",
   "name": "python3"
  },
  "language_info": {
   "codemirror_mode": {
    "name": "ipython",
    "version": 3
   },
   "file_extension": ".py",
   "mimetype": "text/x-python",
   "name": "python",
   "nbconvert_exporter": "python",
   "pygments_lexer": "ipython3",
   "version": "3.9.12"
  }
 },
 "nbformat": 4,
 "nbformat_minor": 5
}
