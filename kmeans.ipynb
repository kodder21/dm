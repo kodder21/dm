{
 "cells": [
  {
   "cell_type": "code",
   "execution_count": 1,
   "id": "ff31588a",
   "metadata": {},
   "outputs": [
    {
     "name": "stdout",
     "output_type": "stream",
     "text": [
      "Centroids:\n",
      "[[0.1910916  0.76906887]\n",
      " [0.53180406 0.16408324]\n",
      " [0.73017926 0.76401504]]\n",
      "Labels:\n",
      "[1 0 2 0 1 1 0 1 1 0 1 2 2 2 1 0 0 2 1 0 1 1 0 1 0 1 2 0 0 0 1 1 0 2 0 2 1\n",
      " 2 1 1 2 0 1 0 0 1 0 0 0 2 2 1 1 2 1 2 1 0 1 1 0 0 1 2 2 1 2 2 2 0 2 2 0 1\n",
      " 2 0 1 1 2 0 1 0 2 1 1 1 1 2 1 1 2 1 1 1 1 2 1 2 1 0]\n"
     ]
    }
   ],
   "source": [
    "import warnings\n",
    "warnings.simplefilter(action='ignore', category=FutureWarning)\n",
    "from sklearn.cluster import KMeans\n",
    "import numpy as np\n",
    "X = np.random.rand(100, 2)\n",
    "k = 3\n",
    "kmeans = KMeans(n_clusters=k)\n",
    "kmeans.fit(X)\n",
    "centroids = kmeans.cluster_centers_\n",
    "labels = kmeans.labels_\n",
    "print(\"Centroids:\")\n",
    "print(centroids)\n",
    "print(\"Labels:\")\n",
    "print(labels)"
   ]
  },
  {
   "cell_type": "code",
   "execution_count": null,
   "id": "a3334763",
   "metadata": {},
   "outputs": [],
   "source": []
  }
 ],
 "metadata": {
  "kernelspec": {
   "display_name": "Python 3 (ipykernel)",
   "language": "python",
   "name": "python3"
  },
  "language_info": {
   "codemirror_mode": {
    "name": "ipython",
    "version": 3
   },
   "file_extension": ".py",
   "mimetype": "text/x-python",
   "name": "python",
   "nbconvert_exporter": "python",
   "pygments_lexer": "ipython3",
   "version": "3.9.12"
  }
 },
 "nbformat": 4,
 "nbformat_minor": 5
}
