{
 "cells": [
  {
   "cell_type": "code",
   "execution_count": 1,
   "id": "bf2b1e37",
   "metadata": {},
   "outputs": [],
   "source": [
    "def partition(data):\n",
    "    pivot_index = len(data) - 1\n",
    "    pivot = data[pivot_index]\n",
    "    i = -1\n",
    "    for j in range(len(data)-1):\n",
    "        if data[j] <= pivot:\n",
    "            i += 1\n",
    "            data[i], data[j] = data[j], data[i]\n",
    "    data[i+1], data[pivot_index] = data[pivot_index], data[i+1]\n",
    "    return i+1"
   ]
  },
  {
   "cell_type": "code",
   "execution_count": 2,
   "id": "af3f1511",
   "metadata": {},
   "outputs": [
    {
     "name": "stdout",
     "output_type": "stream",
     "text": [
      "Original data: [4, 7, 2, 1, 9, 5, 8, 3, 6]\n",
      "Data after partitioning: [4, 2, 1, 5, 3, 6, 8, 9, 7]\n",
      "Pivot index: 5\n"
     ]
    }
   ],
   "source": [
    "data = [4, 7, 2, 1, 9, 5, 8, 3, 6]\n",
    "print(\"Original data:\", data)\n",
    "pivot_index = partition(data)\n",
    "print(\"Data after partitioning:\", data)\n",
    "print(\"Pivot index:\", pivot_index)"
   ]
  }
 ],
 "metadata": {
  "kernelspec": {
   "display_name": "Python 3 (ipykernel)",
   "language": "python",
   "name": "python3"
  },
  "language_info": {
   "codemirror_mode": {
    "name": "ipython",
    "version": 3
   },
   "file_extension": ".py",
   "mimetype": "text/x-python",
   "name": "python",
   "nbconvert_exporter": "python",
   "pygments_lexer": "ipython3",
   "version": "3.9.12"
  }
 },
 "nbformat": 4,
 "nbformat_minor": 5
}
