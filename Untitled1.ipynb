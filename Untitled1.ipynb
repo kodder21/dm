{
 "cells": [
  {
   "cell_type": "code",
   "execution_count": 8,
   "id": "6df4538d",
   "metadata": {},
   "outputs": [
    {
     "name": "stdout",
     "output_type": "stream",
     "text": [
      "Enter the size of x dimensions: 3\n",
      "Enter the size of y dimensions: 3\n",
      "Enter the size of z dimensions: 1\n",
      "Enter the value at row: 0 column: 0 and z axis: 0 1\n",
      "Enter the value at row: 0 column: 0 and z axis: 1 24\n"
     ]
    },
    {
     "ename": "IndexError",
     "evalue": "list assignment index out of range",
     "output_type": "error",
     "traceback": [
      "\u001b[1;31m---------------------------------------------------------------------------\u001b[0m",
      "\u001b[1;31mIndexError\u001b[0m                                Traceback (most recent call last)",
      "Input \u001b[1;32mIn [8]\u001b[0m, in \u001b[0;36m<cell line: 9>\u001b[1;34m()\u001b[0m\n\u001b[0;32m     11\u001b[0m         \u001b[38;5;28;01mfor\u001b[39;00m k \u001b[38;5;129;01min\u001b[39;00m \u001b[38;5;28mrange\u001b[39m(x):\n\u001b[0;32m     12\u001b[0m             \u001b[38;5;28mprint\u001b[39m(\u001b[38;5;124m\"\u001b[39m\u001b[38;5;124mEnter the value at row:\u001b[39m\u001b[38;5;124m\"\u001b[39m, i, \u001b[38;5;124m\"\u001b[39m\u001b[38;5;124mcolumn:\u001b[39m\u001b[38;5;124m\"\u001b[39m, j, \u001b[38;5;124m\"\u001b[39m\u001b[38;5;124mand z axis:\u001b[39m\u001b[38;5;124m\"\u001b[39m, k, end\u001b[38;5;241m=\u001b[39m\u001b[38;5;124m\"\u001b[39m\u001b[38;5;124m \u001b[39m\u001b[38;5;124m\"\u001b[39m)\n\u001b[1;32m---> 13\u001b[0m             data_cube[i][j][k] \u001b[38;5;241m=\u001b[39m \u001b[38;5;28mint\u001b[39m(\u001b[38;5;28minput\u001b[39m())\n\u001b[0;32m     15\u001b[0m \u001b[38;5;66;03m# print the data cube\u001b[39;00m\n\u001b[0;32m     16\u001b[0m \u001b[38;5;28mprint\u001b[39m(\u001b[38;5;124m\"\u001b[39m\u001b[38;5;124mData in the data cube are as follows:\u001b[39m\u001b[38;5;124m\"\u001b[39m)\n",
      "\u001b[1;31mIndexError\u001b[0m: list assignment index out of range"
     ]
    }
   ],
   "source": [
    "import numpy as np\n",
    "\n",
    "data_cube = [[[0 for k in range(1)] for j in range(3)] for i in range(3)]  # initialize 3x3x1 data cube with all zeros\n",
    "x = int(input(\"Enter the size of x dimensions: \"))  # prompt user for x dimension size\n",
    "y = int(input(\"Enter the size of y dimensions: \"))  # prompt user for y dimension size\n",
    "z = int(input(\"Enter the size of z dimensions: \"))  # prompt user for z dimension size\n",
    "\n",
    "# loop through each element of the data cube and prompt user to input its value\n",
    "for i in range(z):\n",
    "    for j in range(y):\n",
    "        for k in range(x):\n",
    "            print(\"Enter the value at row:\", i, \"column:\", j, \"and z axis:\", k, end=\" \")\n",
    "            data_cube[i][j][k] = int(input())\n",
    "\n",
    "# print the data cube\n",
    "print(\"Data in the data cube are as follows:\")\n",
    "print(\"*******************************************************************************\")\n",
    "for i in range(z):\n",
    "    if i <= 1:\n",
    "        if i == 0:\n",
    "            print(\"11 standard\")\n",
    "        if i == 1:\n",
    "            print(\"12 standard\")\n",
    "    elif i > 1 and i < 5:\n",
    "        if i == 2:\n",
    "            print(\"Bsc 1st sem\")\n",
    "        if i == 3:\n",
    "            print(\"Bsc 2nd sem\")\n",
    "        if i == 4:\n",
    "            print(\"Bsc 3rd sem\")\n",
    "    else:\n",
    "        if i == 5:\n",
    "            print(\"Msc 1st sem\")\n",
    "        if i == 6:\n",
    "            print(\"Msc 2nd sem\")\n",
    "    for j in range(y):\n",
    "        for k in range(x):\n",
    "            print(data_cube[i][j][k], end=\"\\t\")\n",
    "        print()\n",
    "\n",
    "sid = int(input(\"Enter the student ID to find the sleeping habit: \"))\n",
    "for i in range(z):\n",
    "    for j in range(y):\n",
    "        if data_cube[i][j][0] == sid:\n",
    "            if data_cube[i][j][12] == 0:\n",
    "                print(\"Regular Sleep\")\n",
    "            if data_cube[i][j][12] == 1:\n",
    "                print(\"Late Night\")\n"
   ]
  },
  {
   "cell_type": "code",
   "execution_count": null,
   "id": "ddfc2a98",
   "metadata": {},
   "outputs": [],
   "source": []
  }
 ],
 "metadata": {
  "kernelspec": {
   "display_name": "Python 3 (ipykernel)",
   "language": "python",
   "name": "python3"
  },
  "language_info": {
   "codemirror_mode": {
    "name": "ipython",
    "version": 3
   },
   "file_extension": ".py",
   "mimetype": "text/x-python",
   "name": "python",
   "nbconvert_exporter": "python",
   "pygments_lexer": "ipython3",
   "version": "3.9.12"
  }
 },
 "nbformat": 4,
 "nbformat_minor": 5
}
