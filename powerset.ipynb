{
 "cells": [
  {
   "cell_type": "code",
   "execution_count": 1,
   "id": "81649274",
   "metadata": {},
   "outputs": [],
   "source": [
    "def power_set(s):\n",
    "    n = len(s)\n",
    "    pow_set_size = 2 ** n\n",
    "    power_set = []\n",
    "\n",
    "    for i in range(pow_set_size):\n",
    "        subset = []\n",
    "        for j in range(n):\n",
    "            if i & (1 << j):\n",
    "                subset.append(s[j])\n",
    "        power_set.append(subset)\n",
    "\n",
    "    return power_set"
   ]
  },
  {
   "cell_type": "code",
   "execution_count": 2,
   "id": "eea7adae",
   "metadata": {},
   "outputs": [
    {
     "name": "stdout",
     "output_type": "stream",
     "text": [
      "[[], [1], [2], [1, 2], [3], [1, 3], [2, 3], [1, 2, 3]]\n"
     ]
    }
   ],
   "source": [
    "s = [1, 2, 3]\n",
    "print(power_set(s))"
   ]
  }
 ],
 "metadata": {
  "kernelspec": {
   "display_name": "Python 3 (ipykernel)",
   "language": "python",
   "name": "python3"
  },
  "language_info": {
   "codemirror_mode": {
    "name": "ipython",
    "version": 3
   },
   "file_extension": ".py",
   "mimetype": "text/x-python",
   "name": "python",
   "nbconvert_exporter": "python",
   "pygments_lexer": "ipython3",
   "version": "3.9.12"
  }
 },
 "nbformat": 4,
 "nbformat_minor": 5
}
