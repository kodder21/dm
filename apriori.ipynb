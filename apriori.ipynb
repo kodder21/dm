{
 "cells": [
  {
   "cell_type": "code",
   "execution_count": 7,
   "id": "06a3ff6c",
   "metadata": {},
   "outputs": [],
   "source": [
    "import itertools\n",
    "\n",
    "def get_itemsets(transaction_list):\n",
    "    itemsets = set()\n",
    "    for transaction in transaction_list:\n",
    "        for item in transaction:\n",
    "            itemsets.add(frozenset([item]))\n",
    "    return itemsets\n",
    "\n",
    "def get_frequent_itemsets(transaction_list, itemsets, min_support):\n",
    "    frequent_itemsets = {}\n",
    "    for itemset in itemsets:\n",
    "        count = 0\n",
    "        for transaction in transaction_list:\n",
    "            if itemset.issubset(transaction):\n",
    "                count += 1\n",
    "        support = count / len(transaction_list)\n",
    "        if support >= min_support:\n",
    "            frequent_itemsets[itemset] = support\n",
    "    return frequent_itemsets\n",
    "\n",
    "def generate_candidates(frequent_itemsets, k):\n",
    "    candidates = set()\n",
    "    for itemset1 in frequent_itemsets:\n",
    "        for itemset2 in frequent_itemsets:\n",
    "            if len(itemset1.union(itemset2)) == k:\n",
    "                candidates.add(itemset1.union(itemset2))\n",
    "    return candidates\n",
    "\n",
    "def apriori(transaction_list, min_support):\n",
    "    itemsets = get_itemsets(transaction_list)\n",
    "    frequent_itemsets = get_frequent_itemsets(transaction_list, itemsets, min_support)\n",
    "    all_frequent_itemsets = frequent_itemsets.copy()\n",
    "    k = 2\n",
    "    while len(frequent_itemsets) > 0:\n",
    "        candidates = generate_candidates(frequent_itemsets, k)\n",
    "        frequent_itemsets = get_frequent_itemsets(transaction_list, candidates, min_support)\n",
    "        all_frequent_itemsets.update(frequent_itemsets)\n",
    "        k += 1\n",
    "    return all_frequent_itemsets\n"
   ]
  },
  {
   "cell_type": "code",
   "execution_count": 8,
   "id": "55592f32",
   "metadata": {},
   "outputs": [
    {
     "name": "stdout",
     "output_type": "stream",
     "text": [
      "{frozenset({'milk'}): 0.8, frozenset({'bread'}): 0.8, frozenset({'beer'}): 0.6, frozenset({'diaper'}): 0.8, frozenset({'cola'}): 0.4, frozenset({'diaper', 'beer'}): 0.6, frozenset({'diaper', 'cola'}): 0.4, frozenset({'diaper', 'bread'}): 0.6, frozenset({'milk', 'beer'}): 0.4, frozenset({'milk', 'cola'}): 0.4, frozenset({'beer', 'bread'}): 0.4, frozenset({'milk', 'bread'}): 0.6, frozenset({'milk', 'diaper'}): 0.6, frozenset({'diaper', 'beer', 'bread'}): 0.4, frozenset({'milk', 'diaper', 'bread'}): 0.4, frozenset({'milk', 'diaper', 'beer'}): 0.4, frozenset({'milk', 'diaper', 'cola'}): 0.4}\n"
     ]
    }
   ],
   "source": [
    "\n",
    "# Example usage\n",
    "dataset = [\n",
    "    ['bread', 'milk'],\n",
    "    ['bread', 'diaper', 'beer', 'egg'],\n",
    "    ['milk', 'diaper', 'beer', 'cola'],\n",
    "    ['bread', 'milk', 'diaper', 'beer'],\n",
    "    ['bread', 'milk', 'diaper', 'cola']\n",
    "]\n",
    "\n",
    "min_support = 0.4\n",
    "\n",
    "frequent_itemsets = apriori(dataset, min_support)\n",
    "\n",
    "print(frequent_itemsets)\n"
   ]
  },
  {
   "cell_type": "code",
   "execution_count": null,
   "id": "60b407e9",
   "metadata": {},
   "outputs": [],
   "source": []
  }
 ],
 "metadata": {
  "kernelspec": {
   "display_name": "Python 3 (ipykernel)",
   "language": "python",
   "name": "python3"
  },
  "language_info": {
   "codemirror_mode": {
    "name": "ipython",
    "version": 3
   },
   "file_extension": ".py",
   "mimetype": "text/x-python",
   "name": "python",
   "nbconvert_exporter": "python",
   "pygments_lexer": "ipython3",
   "version": "3.9.12"
  }
 },
 "nbformat": 4,
 "nbformat_minor": 5
}
